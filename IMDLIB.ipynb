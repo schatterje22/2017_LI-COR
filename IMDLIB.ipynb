{
  "nbformat": 4,
  "nbformat_minor": 0,
  "metadata": {
    "colab": {
      "provenance": [],
      "include_colab_link": true
    },
    "kernelspec": {
      "name": "python3",
      "display_name": "Python 3"
    },
    "language_info": {
      "name": "python"
    }
  },
  "cells": [
    {
      "cell_type": "markdown",
      "metadata": {
        "id": "view-in-github",
        "colab_type": "text"
      },
      "source": [
        "<a href=\"https://colab.research.google.com/github/schatterje22/2017_LI-COR/blob/master/IMDLIB.ipynb\" target=\"_parent\"><img src=\"https://colab.research.google.com/assets/colab-badge.svg\" alt=\"Open In Colab\"/></a>"
      ]
    },
    {
      "cell_type": "markdown",
      "source": [
        "**Script to download IMD Gridded data into CSV file**\n"
      ],
      "metadata": {
        "id": "3lKIfkwzQSFm"
      }
    },
    {
      "cell_type": "code",
      "source": [
        "from google.colab import drive\n",
        "drive.mount('/content/drive')"
      ],
      "metadata": {
        "id": "8ymCHzEiP4L_",
        "outputId": "4850e198-79e5-4df0-9e47-b187febd8413",
        "colab": {
          "base_uri": "https://localhost:8080/"
        }
      },
      "execution_count": 1,
      "outputs": [
        {
          "output_type": "stream",
          "name": "stdout",
          "text": [
            "Mounted at /content/drive\n"
          ]
        }
      ]
    },
    {
      "cell_type": "code",
      "source": [
        "pip install imdlib"
      ],
      "metadata": {
        "id": "EGD59HRi9Qls",
        "outputId": "6298189e-f024-4d45-c3e3-2fe64e68a277",
        "colab": {
          "base_uri": "https://localhost:8080/"
        }
      },
      "execution_count": 2,
      "outputs": [
        {
          "output_type": "stream",
          "name": "stdout",
          "text": [
            "Collecting imdlib\n",
            "  Downloading imdlib-0.1.19-py3-none-any.whl (20 kB)\n",
            "Requirement already satisfied: matplotlib in /usr/local/lib/python3.10/dist-packages (from imdlib) (3.7.1)\n",
            "Requirement already satisfied: numpy in /usr/local/lib/python3.10/dist-packages (from imdlib) (1.23.5)\n",
            "Requirement already satisfied: pandas in /usr/local/lib/python3.10/dist-packages (from imdlib) (1.5.3)\n",
            "Requirement already satisfied: six in /usr/local/lib/python3.10/dist-packages (from imdlib) (1.16.0)\n",
            "Requirement already satisfied: python-dateutil in /usr/local/lib/python3.10/dist-packages (from imdlib) (2.8.2)\n",
            "Requirement already satisfied: pytz in /usr/local/lib/python3.10/dist-packages (from imdlib) (2023.3.post1)\n",
            "Requirement already satisfied: urllib3 in /usr/local/lib/python3.10/dist-packages (from imdlib) (2.0.6)\n",
            "Requirement already satisfied: scipy in /usr/local/lib/python3.10/dist-packages (from imdlib) (1.11.3)\n",
            "Requirement already satisfied: xarray in /usr/local/lib/python3.10/dist-packages (from imdlib) (2023.7.0)\n",
            "Requirement already satisfied: requests in /usr/local/lib/python3.10/dist-packages (from imdlib) (2.31.0)\n",
            "Requirement already satisfied: contourpy>=1.0.1 in /usr/local/lib/python3.10/dist-packages (from matplotlib->imdlib) (1.1.1)\n",
            "Requirement already satisfied: cycler>=0.10 in /usr/local/lib/python3.10/dist-packages (from matplotlib->imdlib) (0.12.1)\n",
            "Requirement already satisfied: fonttools>=4.22.0 in /usr/local/lib/python3.10/dist-packages (from matplotlib->imdlib) (4.43.1)\n",
            "Requirement already satisfied: kiwisolver>=1.0.1 in /usr/local/lib/python3.10/dist-packages (from matplotlib->imdlib) (1.4.5)\n",
            "Requirement already satisfied: packaging>=20.0 in /usr/local/lib/python3.10/dist-packages (from matplotlib->imdlib) (23.2)\n",
            "Requirement already satisfied: pillow>=6.2.0 in /usr/local/lib/python3.10/dist-packages (from matplotlib->imdlib) (9.4.0)\n",
            "Requirement already satisfied: pyparsing>=2.3.1 in /usr/local/lib/python3.10/dist-packages (from matplotlib->imdlib) (3.1.1)\n",
            "Requirement already satisfied: charset-normalizer<4,>=2 in /usr/local/lib/python3.10/dist-packages (from requests->imdlib) (3.3.0)\n",
            "Requirement already satisfied: idna<4,>=2.5 in /usr/local/lib/python3.10/dist-packages (from requests->imdlib) (3.4)\n",
            "Requirement already satisfied: certifi>=2017.4.17 in /usr/local/lib/python3.10/dist-packages (from requests->imdlib) (2023.7.22)\n",
            "Installing collected packages: imdlib\n",
            "Successfully installed imdlib-0.1.19\n"
          ]
        }
      ]
    },
    {
      "cell_type": "code",
      "execution_count": 3,
      "metadata": {
        "id": "xnxDLwE99JvY",
        "outputId": "176af788-0572-4b10-bc73-ccd77301d877",
        "colab": {
          "base_uri": "https://localhost:8080/"
        }
      },
      "outputs": [
        {
          "output_type": "stream",
          "name": "stdout",
          "text": [
            "Downloading: rain for year 1985\n",
            "Downloading: rain for year 1986\n",
            "Downloading: rain for year 1987\n",
            "Downloading: rain for year 1988\n",
            "Downloading: rain for year 1989\n",
            "Downloading: rain for year 1990\n",
            "Downloading: rain for year 1991\n",
            "Downloading: rain for year 1992\n",
            "Downloading: rain for year 1993\n",
            "Downloading: rain for year 1994\n",
            "Downloading: rain for year 1995\n",
            "Downloading: rain for year 1996\n",
            "Downloading: rain for year 1997\n",
            "Downloading: rain for year 1998\n",
            "Downloading: rain for year 1999\n",
            "Downloading: rain for year 2000\n",
            "Downloading: rain for year 2001\n",
            "Downloading: rain for year 2002\n",
            "Downloading: rain for year 2003\n",
            "Downloading: rain for year 2004\n",
            "Downloading: rain for year 2005\n",
            "Downloading: rain for year 2006\n",
            "Downloading: rain for year 2007\n",
            "Downloading: rain for year 2008\n",
            "Downloading: rain for year 2009\n",
            "Downloading: rain for year 2010\n",
            "Downloading: rain for year 2011\n",
            "Downloading: rain for year 2012\n",
            "Downloading: rain for year 2013\n",
            "Downloading: rain for year 2014\n",
            "Downloading: rain for year 2015\n",
            "Downloading: rain for year 2016\n",
            "Downloading: rain for year 2017\n",
            "Downloading: rain for year 2018\n",
            "Downloading: rain for year 2019\n",
            "Downloading: rain for year 2020\n",
            "Downloading: rain for year 2021\n",
            "Downloading: rain for year 2022\n",
            "Download Successful !!!\n",
            "<xarray.Dataset>\n",
            "Dimensions:  (time: 13879, lat: 129, lon: 135)\n",
            "Coordinates:\n",
            "  * lat      (lat) float64 6.5 6.75 7.0 7.25 7.5 ... 37.5 37.75 38.0 38.25 38.5\n",
            "  * lon      (lon) float64 66.5 66.75 67.0 67.25 67.5 ... 99.25 99.5 99.75 100.0\n",
            "  * time     (time) datetime64[ns] 1985-01-01 1985-01-02 ... 2022-12-31\n",
            "Data variables:\n",
            "    rain     (time, lat, lon) float64 -999.0 -999.0 -999.0 ... -999.0 -999.0\n",
            "Attributes:\n",
            "    Conventions:  CF-1.7\n",
            "    title:        IMD gridded data\n",
            "    source:       https://imdpune.gov.in/\n",
            "    history:      2023-10-15 09:59:14.772352 Python\n",
            "    references:   \n",
            "    comment:      \n",
            "    crs:          epsg:4326\n"
          ]
        }
      ],
      "source": [
        "import imdlib as imd\n",
        "\n",
        "path = \"/content/drive/MyDrive/Colab Notebooks\"\n",
        "\n",
        "start_yr = 1985\n",
        "end_yr = 2022\n",
        "variable = 'tmax' # other options are ('tmin'/ 'tmax'/'rain')\n",
        "\n",
        "imd.get_data(variable, start_yr, end_yr, fn_format='yearwise', file_dir=path)\n",
        "data = imd.open_data(variable, start_yr, end_yr,'yearwise', path)\n",
        "ds = data.get_xarray()\n",
        "print(ds)\n",
        "\n",
        "\n",
        "\n",
        "lat = 20.45 #lattitude of point\n",
        "lon = 85.93 #longitude of point\n",
        "data.to_csv('data.csv', lat, lon, path)"
      ]
    },
    {
      "cell_type": "code",
      "source": [
        "# Save CSV files for multiple points\n",
        "\n",
        "# Provide lat and long in a list\n",
        "latLong = [[20.3,77.23],[23.5,72.5],[26.0,77,1]]\n",
        "\n",
        "for points in latLong:\n",
        "  lat = points[0]\n",
        "  lon = points[1]\n",
        "\n",
        "  data.to_csv('test.csv', lat, lon, path)\n",
        "  print (\"data save for \",points)"
      ],
      "metadata": {
        "id": "kygArbTkBPMT"
      },
      "execution_count": null,
      "outputs": []
    }
  ]
}